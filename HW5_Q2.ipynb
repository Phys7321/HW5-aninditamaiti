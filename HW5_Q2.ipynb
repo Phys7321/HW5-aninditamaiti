{
 "cells": [
  {
   "cell_type": "code",
   "execution_count": 1,
   "metadata": {},
   "outputs": [
    {
     "name": "stdout",
     "output_type": "stream",
     "text": [
      "I= 0.3334988 +/- 0.00010153857789037622\n",
      "By Simple Monte Carlo I= 0.33343794774139424 +/- 6.298365253613797e-05\n",
      "By Importance Sampling Monte Carlo I= 0.33339251989446816 +/- 2.70665817553297e-05\n"
     ]
    }
   ],
   "source": [
    "%matplotlib inline\n",
    "import numpy as np\n",
    "from matplotlib import pyplot\n",
    "\n",
    "def prob():\n",
    "    N=100000\n",
    "    x1=np.random.random(N)\n",
    "    x2=np.random.random(N)\n",
    "    n=0\n",
    "\n",
    "    for i in range(N):\n",
    "        y1=x1[i]**2\n",
    "        if(x2[i]<y1):\n",
    "            n=n+1\n",
    "        \n",
    "    ratio=float(n)/float(N)\n",
    "    \n",
    "    return ratio\n",
    "\n",
    "def SMC(a,b):    # Simple Monte Carlo. a=0 and b=1 for function call\n",
    "    N=100000\n",
    "    x1=np.random.random(N)\n",
    "    x2=np.zeros(N)\n",
    "    sum1=0\n",
    "    \n",
    "    for i in range(N):\n",
    "        x2[i]=x1[i]**2\n",
    "        sum1 = sum1 + x2[i]\n",
    "    \n",
    "    value=sum1/N*(b-a)\n",
    "    return value\n",
    "\n",
    "# for Importance sampling using P(x)=x, we get an inverse relation x = y^2/2 => y = sqrt(2x)\n",
    "\n",
    "def ISMC(a,b):   # Importance sampling Monte Carlo. again a=0, b=1 for function call\n",
    "    N=100000\n",
    "    x0=np.random.random(N)\n",
    "    x1=np.sqrt(2*x0)\n",
    "    x2=np.sqrt(2)*x1    \n",
    "    y1=np.zeros(N)\n",
    "    sum1=0\n",
    "    \n",
    "    for i in range(N):\n",
    "        deno = np.sqrt(2*x2[i])\n",
    "        y0 = x1[i]/deno\n",
    "        y1[i]=y0**2\n",
    "        sum1 = sum1 + y1[i]\n",
    "        \n",
    "    value =sum1/N\n",
    "    return value\n",
    "\n",
    "N=200\n",
    "z1=np.zeros((1,N))\n",
    "z2=np.zeros((1,N))\n",
    "z3=np.zeros((1,N))\n",
    "for i in range(0,N):\n",
    "    z1[0][i] = prob()\n",
    "    z2[0][i] = SMC(0,1)\n",
    "    z3[0][i] = ISMC(0,1)\n",
    "\n",
    "mean1=np.average(z1)\n",
    "std1=np.std(z1)\n",
    "st_error1=std1/np.sqrt(N)\n",
    "\n",
    "mean_SMC=np.average(z2)\n",
    "std_SMC=np.std(z2)\n",
    "st_error_SMC=std_SMC/np.sqrt(N)\n",
    "\n",
    "mean_ISMC=np.average(z3)\n",
    "std_ISMC=np.std(z3)\n",
    "st_error_ISMC=std_ISMC/np.sqrt(N)\n",
    "\n",
    "print('I=',mean1,'+/-',st_error1)\n",
    "print('By Simple Monte Carlo I=',mean_SMC,'+/-',st_error_SMC)\n",
    "print('By Importance Sampling Monte Carlo I=',mean_ISMC,'+/-',st_error_ISMC)\n",
    "\n",
    "\n"
   ]
  },
  {
   "cell_type": "code",
   "execution_count": 2,
   "metadata": {},
   "outputs": [
    {
     "name": "stdout",
     "output_type": "stream",
     "text": [
      "It can be seen that importance sampling is better than simple Monte Carlo, which is better than normal trial and error style\n"
     ]
    }
   ],
   "source": [
    "print('It can be seen that importance sampling is better than simple Monte Carlo, which is better than normal trial and error style')"
   ]
  },
  {
   "cell_type": "code",
   "execution_count": null,
   "metadata": {},
   "outputs": [],
   "source": []
  }
 ],
 "metadata": {
  "kernelspec": {
   "display_name": "Python 3",
   "language": "python",
   "name": "python3"
  },
  "language_info": {
   "codemirror_mode": {
    "name": "ipython",
    "version": 3
   },
   "file_extension": ".py",
   "mimetype": "text/x-python",
   "name": "python",
   "nbconvert_exporter": "python",
   "pygments_lexer": "ipython3",
   "version": "3.6.6"
  }
 },
 "nbformat": 4,
 "nbformat_minor": 2
}
