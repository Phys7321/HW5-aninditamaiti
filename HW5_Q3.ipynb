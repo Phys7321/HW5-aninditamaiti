{
 "cells": [
  {
   "cell_type": "code",
   "execution_count": 1,
   "metadata": {},
   "outputs": [
    {
     "name": "stdout",
     "output_type": "stream",
     "text": [
      "By hit and miss method I= 0.66668105 +/- 9.018759331249531e-05\n",
      "By Simple Monte Carlo I= 0.6667063088407752 +/- 4.6060562137345295e-05\n"
     ]
    }
   ],
   "source": [
    "# Question 3\n",
    "\n",
    "%matplotlib inline\n",
    "import numpy as np\n",
    "from matplotlib import pyplot\n",
    "\n",
    "def prob():\n",
    "    N=100000\n",
    "    x1=np.random.random(N)\n",
    "    x2=np.random.random(N)\n",
    "    n=0\n",
    "\n",
    "    for i in range(N):\n",
    "        y1=np.sqrt(x1[i])\n",
    "        if(x2[i]<y1):\n",
    "            n=n+1\n",
    "        \n",
    "    ratio=float(n)/float(N)\n",
    "    \n",
    "    return ratio\n",
    "\n",
    "def SMC(a,b):    # Simple Monte Carlo\n",
    "    N=100000\n",
    "    x1=np.random.random(N)\n",
    "    x2=np.zeros(N)\n",
    "    sum1=0\n",
    "    \n",
    "    for i in range(N):\n",
    "        x2[i]=np.sqrt(x1[i])\n",
    "        sum1 = sum1 + x2[i]\n",
    "    \n",
    "    value=sum1/N*(b-a)\n",
    "    return value\n",
    "\n",
    "# for Importance sampling using P(x)=x, we get an inverse relation x = y^2/2 => y = sqrt(2x)\n",
    "\n",
    "def ISMC(a,b):   # Importance sampling Monte Carlo\n",
    "    N=100000\n",
    "    x0=np.random.random(N)\n",
    "    x1=np.sqrt(2*x0)\n",
    "    x2=np.sqrt(2)*x1    \n",
    "    y1=np.zeros(N)\n",
    "    sum1=0\n",
    "    \n",
    "    for i in range(N):\n",
    "        deno = np.sqrt(2*x2[i])\n",
    "        y0 = x1[i]/deno\n",
    "        y1[i]=y0**2\n",
    "        sum1 = sum1 + y1[i]\n",
    "        \n",
    "    value =sum1/N\n",
    "    return value\n",
    "\n",
    "\n",
    "N=200\n",
    "z1=np.zeros((1,N))\n",
    "z2=np.zeros((1,N))\n",
    "for i in range(0,N):\n",
    "    z1[0][i] = prob()\n",
    "    z2[0][i] = SMC(0,1)  # since integration limits from a=0,b=1\n",
    "   \n",
    "mean1=np.average(z1)\n",
    "std1=np.std(z1)\n",
    "st_error1=std1/np.sqrt(N)\n",
    "\n",
    "mean_SMC=np.average(z2)\n",
    "std_SMC=np.std(z2)\n",
    "st_error_SMC=std_SMC/np.sqrt(N)\n",
    "\n",
    "print('By hit and miss method I=',mean1,'+/-',st_error1)\n",
    "print('By Simple Monte Carlo I=',mean_SMC,'+/-',st_error_SMC)\n",
    "\n"
   ]
  },
  {
   "cell_type": "code",
   "execution_count": 2,
   "metadata": {},
   "outputs": [
    {
     "name": "stdout",
     "output_type": "stream",
     "text": [
      "Acceptance Ratio:  0.5826\n"
     ]
    },
    {
     "data": {
      "image/png": "[encoded data removed]",
      "text/plain": [
       "<Figure size 432x288 with 1 Axes>"
      ]
     },
     "metadata": {
      "needs_background": "light"
     },
     "output_type": "display_data"
    }
   ],
   "source": [
    "# Random numbers are generated by Von Neumann rejection method\n",
    "\n",
    "a = 1\n",
    "N = 10000\n",
    "NC = a/(a+np.exp(-a)-1)\n",
    "X = 1\n",
    "Y = NC*(1-np.exp(-a*X))\n",
    "\n",
    "x1 = np.random.random(N)*X\n",
    "y1 = np.random.random(N)*Y\n",
    "\n",
    "entry = []\n",
    "\n",
    "n = 0\n",
    "for i in range(N):\n",
    "    if(y1[i] <= (NC*(1-np.exp(-a * x1[i])))):\n",
    "        entry.append(x1[i])\n",
    "        n = n + 1\n",
    "\n",
    "x = np.asarray(entry)\n",
    "\n",
    "print(\"Acceptance Ratio: \",n/float(N))\n",
    "binwidth=1/100\n",
    "pyplot.hist(x,bins=np.arange(0.,X, binwidth),density=True);\n",
    "pyplot.plot(np.arange(0.,X,binwidth),NC*(1 - np.exp(-a*np.arange(0,X, binwidth))),ls='-',c='red',lw=3);\n"
   ]
  },
  {
   "cell_type": "code",
   "execution_count": 3,
   "metadata": {},
   "outputs": [
    {
     "name": "stdout",
     "output_type": "stream",
     "text": [
      "Minimum variance occurs at a= 4.0\n"
     ]
    },
    {
     "data": {
      "image/png": "[encoded data removed]",
      "text/plain": [
       "<Figure size 432x288 with 1 Axes>"
      ]
     },
     "metadata": {
      "needs_background": "light"
     },
     "output_type": "display_data"
    }
   ],
   "source": [
    "def VonNeumannRN(a):\n",
    "    N = 10000\n",
    "    NC=a/(a+np.exp(-a)-1)\n",
    "    X = 1\n",
    "    Y = NC*(1-np.exp(-a*X))\n",
    "\n",
    "    x1 = np.random.random(N)*X\n",
    "    y1 = np.random.random(N)*Y\n",
    "\n",
    "    entry = []\n",
    "\n",
    "    n = 0\n",
    "    for i in range(N):\n",
    "        if(y1[i] <= (NC*(1-np.exp(-a * x1[i])))):\n",
    "            entry.append(x1[i])\n",
    "            n = n + 1\n",
    "\n",
    "    x = np.asarray(entry)\n",
    "\n",
    "    return x,NC\n",
    "\n",
    "def ISMC(Norm,x,a):\n",
    "    value = 0\n",
    "    for i in range(len(x)):\n",
    "        value = value + np.sqrt(x[i])/(Norm*(1-np.exp(-a * x[i]))) \n",
    "\n",
    "    value=value/len(x)\n",
    "    return value\n",
    "\n",
    "a_array=[]\n",
    "var_array=[]\n",
    "a=0.5\n",
    "\n",
    "for i in range(10):\n",
    "    M=50\n",
    "    list1=np.zeros((1,M))\n",
    "    for j in range(M):\n",
    "        b = VonNeumannRN(a)\n",
    "        x = b[0]\n",
    "        Normalize = b[1]\n",
    "        list1[0][j] = ISMC(Normalize,x,a)\n",
    "    \n",
    "    variance=(np.std(list1))**2\n",
    "    a_array.append(a)\n",
    "    var_array.append(variance)\n",
    "    a+=0.5\n",
    "\n",
    "pyplot.figure()\n",
    "pyplot.plot(a_array,var_array)\n",
    "pyplot.xlabel('a')\n",
    "pyplot.ylabel('Variance')\n",
    "pyplot.title('Variance vs. a')\n",
    "\n",
    "min_var_pos = np.argmin(var_array)\n",
    "a_min_var = a_array[min_var_pos]\n",
    "print('Minimum variance occurs at a=',a_min_var)"
   ]
  },
  {
   "cell_type": "code",
   "execution_count": null,
   "metadata": {},
   "outputs": [],
   "source": []
  },
  {
   "cell_type": "code",
   "execution_count": null,
   "metadata": {},
   "outputs": [],
   "source": []
  }
 ],
 "metadata": {
  "kernelspec": {
   "display_name": "Python 3",
   "language": "python",
   "name": "python3"
  },
  "language_info": {
   "codemirror_mode": {
    "name": "ipython",
    "version": 3
   },
   "file_extension": ".py",
   "mimetype": "text/x-python",
   "name": "python",
   "nbconvert_exporter": "python",
   "pygments_lexer": "ipython3",
   "version": "3.6.6"
  }
 },
 "nbformat": 4,
 "nbformat_minor": 2
}
